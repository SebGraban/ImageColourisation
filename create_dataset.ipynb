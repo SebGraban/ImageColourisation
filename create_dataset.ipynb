{
 "cells": [
  {
   "cell_type": "code",
   "execution_count": 3,
   "metadata": {},
   "outputs": [],
   "source": [
    "import skimage as ski\n",
    "import os\n",
    "from skimage.transform import rescale, resize\n",
    "import numpy as np"
   ]
  },
  {
   "cell_type": "code",
   "execution_count": null,
   "metadata": {},
   "outputs": [],
   "source": [
    "# Create a new folder called landscape and save all formatted images\n",
    "# The original dataset is not inluded in this repository\n",
    "for idx, file in enumerate(os.listdir(os.path.join('archive','dataset'))):\n",
    "    img = ski.io.imread(os.path.join('archive','dataset', file))\n",
    "    img = rescale(img, 0.25, anti_aliasing=True,channel_axis=2,preserve_range=True)\n",
    "    if np.abs((img[:,:,0] - img[:,:,1]).mean()) > 0.01: \n",
    "        ski.io.imsave(os.path.join('landscape', file.split('.')[0] + '.png'), img.astype(np.uint8))\n",
    "\n",
    "    if idx > 2000:\n",
    "        break"
   ]
  },
  {
   "cell_type": "code",
   "execution_count": 6,
   "metadata": {},
   "outputs": [],
   "source": [
    "# Create a new folder called black-and-white and save all formatted images\n",
    "# The original dataset is not inluded in this repository\n",
    "for idx, file in enumerate(os.listdir('black-and-white')):\n",
    "    img = ski.io.imread(os.path.join('black-and-white', file))\n",
    "    img = resize(img, (256,256), anti_aliasing=True,preserve_range=True)\n",
    "    if np.abs((img[:,:,0] - img[:,:,1]).mean()) > 0.01: \n",
    "        ski.io.imsave(os.path.join('black-and-white-resize', file.split('.')[0] + '.png'), img.astype(np.uint8))"
   ]
  },
  {
   "cell_type": "code",
   "execution_count": null,
   "metadata": {},
   "outputs": [],
   "source": []
  }
 ],
 "metadata": {
  "kernelspec": {
   "display_name": "uda",
   "language": "python",
   "name": "python3"
  },
  "language_info": {
   "codemirror_mode": {
    "name": "ipython",
    "version": 3
   },
   "file_extension": ".py",
   "mimetype": "text/x-python",
   "name": "python",
   "nbconvert_exporter": "python",
   "pygments_lexer": "ipython3",
   "version": "3.12.8"
  }
 },
 "nbformat": 4,
 "nbformat_minor": 2
}
